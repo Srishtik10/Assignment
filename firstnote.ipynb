{
 "cells": [
  {
   "cell_type": "code",
   "execution_count": 1,
   "id": "4309a81c-add4-4f7a-b1d9-38129a9c50fb",
   "metadata": {},
   "outputs": [
    {
     "name": "stdout",
     "output_type": "stream",
     "text": [
      "2\n"
     ]
    }
   ],
   "source": [
    "a=2\n",
    "print(a)"
   ]
  },
  {
   "cell_type": "code",
   "execution_count": 3,
   "id": "2b681f4f-6003-4e50-8f71-7f4a73fe98d7",
   "metadata": {},
   "outputs": [
    {
     "name": "stdout",
     "output_type": "stream",
     "text": [
      "1.1\n",
      "3.1\n"
     ]
    }
   ],
   "source": [
    "b=1.1\n",
    "print(b)\n",
    "print(a+b)\n"
   ]
  },
  {
   "cell_type": "code",
   "execution_count": 5,
   "id": "014009dd-17c9-4e59-9c17-29ce3856157f",
   "metadata": {},
   "outputs": [
    {
     "data": {
      "text/plain": [
       "float"
      ]
     },
     "execution_count": 5,
     "metadata": {},
     "output_type": "execute_result"
    }
   ],
   "source": [
    "type(b)\n"
   ]
  },
  {
   "cell_type": "code",
   "execution_count": 11,
   "id": "f15a3e55-9123-45ac-a3e3-e4cff9497d1e",
   "metadata": {},
   "outputs": [
    {
     "data": {
      "text/plain": [
       "str"
      ]
     },
     "execution_count": 11,
     "metadata": {},
     "output_type": "execute_result"
    }
   ],
   "source": [
    "c=\"cld\"\n",
    "type(c)"
   ]
  },
  {
   "cell_type": "code",
   "execution_count": 13,
   "id": "ac0ffd1e-ac10-40c0-855a-1163ee345635",
   "metadata": {},
   "outputs": [
    {
     "data": {
      "text/plain": [
       "2212394145808"
      ]
     },
     "execution_count": 13,
     "metadata": {},
     "output_type": "execute_result"
    }
   ],
   "source": [
    "a=3.3\n",
    "id(a)"
   ]
  },
  {
   "cell_type": "code",
   "execution_count": 15,
   "id": "542d08af-e5c2-4de8-93e4-b0cbaa2a1cfe",
   "metadata": {},
   "outputs": [
    {
     "name": "stdout",
     "output_type": "stream",
     "text": [
      "[1, 2, 3]\n"
     ]
    },
    {
     "data": {
      "text/plain": [
       "2212395813184"
      ]
     },
     "execution_count": 15,
     "metadata": {},
     "output_type": "execute_result"
    }
   ],
   "source": [
    "c=[1,2,3]\n",
    "print(c)\n",
    "id(c)"
   ]
  },
  {
   "cell_type": "code",
   "execution_count": 17,
   "id": "af91c955-188a-42c4-9540-ca938a3e3203",
   "metadata": {},
   "outputs": [
    {
     "name": "stdout",
     "output_type": "stream",
     "text": [
      "[1, 2, 3, 5]\n"
     ]
    },
    {
     "data": {
      "text/plain": [
       "2212395813184"
      ]
     },
     "execution_count": 17,
     "metadata": {},
     "output_type": "execute_result"
    }
   ],
   "source": [
    "c.append(5)\n",
    "print(c)\n",
    "id(c)"
   ]
  },
  {
   "cell_type": "code",
   "execution_count": 21,
   "id": "54fa437b-a97f-4f0b-a961-9cb2191b0f3b",
   "metadata": {},
   "outputs": [
    {
     "name": "stdin",
     "output_type": "stream",
     "text": [
      "Enter Your Name deepali\n"
     ]
    },
    {
     "name": "stdout",
     "output_type": "stream",
     "text": [
      "Hi deepali\n"
     ]
    }
   ],
   "source": [
    "n=input(\"Enter Your Name\")\n",
    "print(f\"Hi {n}\")"
   ]
  },
  {
   "cell_type": "code",
   "execution_count": null,
   "id": "cf6c40e2-7f47-4e2f-9bb8-803682a059fb",
   "metadata": {},
   "outputs": [],
   "source": [
    "IF BLOCK"
   ]
  },
  {
   "cell_type": "code",
   "execution_count": 23,
   "id": "6d4a5780-a8da-45dc-b771-31db095a64c5",
   "metadata": {},
   "outputs": [
    {
     "data": {
      "text/plain": [
       "True"
      ]
     },
     "execution_count": 23,
     "metadata": {},
     "output_type": "execute_result"
    }
   ],
   "source": [
    "1<2"
   ]
  },
  {
   "cell_type": "code",
   "execution_count": 25,
   "id": "a814e67b-400a-4c35-ae0c-2912a7650042",
   "metadata": {},
   "outputs": [
    {
     "data": {
      "text/plain": [
       "True"
      ]
     },
     "execution_count": 25,
     "metadata": {},
     "output_type": "execute_result"
    }
   ],
   "source": [
    "1==1"
   ]
  },
  {
   "cell_type": "code",
   "execution_count": 27,
   "id": "7b5c209e-c633-4174-94ef-02319c50ceb0",
   "metadata": {},
   "outputs": [
    {
     "data": {
      "text/plain": [
       "False"
      ]
     },
     "execution_count": 27,
     "metadata": {},
     "output_type": "execute_result"
    }
   ],
   "source": [
    "1!=1"
   ]
  },
  {
   "cell_type": "code",
   "execution_count": 36,
   "id": "0595fa7d-08d1-4d40-9b4f-c3b857968a67",
   "metadata": {},
   "outputs": [
    {
     "name": "stdout",
     "output_type": "stream",
     "text": [
      "a > b\n",
      "this condition is true\n"
     ]
    }
   ],
   "source": [
    "a = 10\n",
    "b = 1\n",
    "c = 5\n",
    "if a > b:\n",
    "    print(\"a > b\")\n",
    "    print(\"this condition is true\")  \n",
    "elif a==b:\n",
    "    pass\n",
    "else: # a< b\n",
    "    pass\n",
    "    "
   ]
  },
  {
   "cell_type": "code",
   "execution_count": 40,
   "id": "62b57eef-b703-48ac-89c3-0b2035dff694",
   "metadata": {},
   "outputs": [
    {
     "name": "stdout",
     "output_type": "stream",
     "text": [
      "value is 2\n",
      "Id is 140707620665816\n",
      "Type is <class 'int'>\n"
     ]
    }
   ],
   "source": [
    "a=2\n",
    "print(f\"value is { a }\")\n",
    "print(f\"Id is { id(a) }\")\n",
    "print(f\"Type is { type(a) }\")"
   ]
  },
  {
   "cell_type": "code",
   "execution_count": 46,
   "id": "ea0b767b-f818-490f-ae49-25c1a34a098a",
   "metadata": {},
   "outputs": [
    {
     "name": "stdout",
     "output_type": "stream",
     "text": [
      "value is 1\n",
      "Id is 140707620665784\n",
      "Type is <class 'int'>\n"
     ]
    }
   ],
   "source": [
    "# function\n",
    "\"\"\"\n",
    "def is short for defition\n",
    "\"\"\"\n",
    "# def functionname(input,arguments):\n",
    "\n",
    "def myprint(inputvar):\n",
    "    a = inputvar\n",
    "    print(f\"value is { a }\")\n",
    "    print(f\"Id is { id(a) }\")\n",
    "    print(f\"Type is { type(a) }\")\n",
    "myprint(1)\n"
   ]
  },
  {
   "cell_type": "code",
   "execution_count": 48,
   "id": "e58e665a-a53b-457b-8a8c-a324cf9adc67",
   "metadata": {},
   "outputs": [
    {
     "name": "stdout",
     "output_type": "stream",
     "text": [
      "value is 1\n",
      "Id is 140707620665784\n",
      "Type is <class 'int'>\n",
      "value is 2\n",
      "Id is 140707620665816\n",
      "Type is <class 'int'>\n",
      "value is 3\n",
      "Id is 140707620665848\n",
      "Type is <class 'int'>\n"
     ]
    }
   ],
   "source": [
    "a=1\n",
    "b=2\n",
    "c=3\n",
    "myprint(a)\n",
    "myprint(b)\n",
    "myprint(c)"
   ]
  },
  {
   "cell_type": "code",
   "execution_count": 50,
   "id": "215a35f4-6736-4753-a053-c24f3aa9810d",
   "metadata": {},
   "outputs": [
    {
     "name": "stdin",
     "output_type": "stream",
     "text": [
      "enter first name deepali\n",
      "enter last name soni\n"
     ]
    },
    {
     "name": "stdout",
     "output_type": "stream",
     "text": [
      " Hi DEEPALI SONI\n"
     ]
    }
   ],
   "source": [
    "fname = input(\"enter first name\")\n",
    "lname = input(\"enter last name\")\n",
    "print(f\" Hi { fname.upper() } { lname.upper() }\")"
   ]
  },
  {
   "cell_type": "code",
   "execution_count": 52,
   "id": "14d2f740-0494-4ac0-8fe5-52073aec1fb8",
   "metadata": {},
   "outputs": [
    {
     "name": "stdout",
     "output_type": "stream",
     "text": [
      "a is still less than b\n"
     ]
    }
   ],
   "source": [
    "a = 1\n",
    "b = 2\n",
    "while a < b:\n",
    "    print(\"a is still less than b\")\n",
    "    a = a + 1"
   ]
  },
  {
   "cell_type": "code",
   "execution_count": null,
   "id": "959ffbd8-3f38-43b3-a61f-d739f6de916c",
   "metadata": {},
   "outputs": [],
   "source": []
  }
 ],
 "metadata": {
  "kernelspec": {
   "display_name": "Python 3 (ipykernel)",
   "language": "python",
   "name": "python3"
  },
  "language_info": {
   "codemirror_mode": {
    "name": "ipython",
    "version": 3
   },
   "file_extension": ".py",
   "mimetype": "text/x-python",
   "name": "python",
   "nbconvert_exporter": "python",
   "pygments_lexer": "ipython3",
   "version": "3.12.4"
  }
 },
 "nbformat": 4,
 "nbformat_minor": 5
}
