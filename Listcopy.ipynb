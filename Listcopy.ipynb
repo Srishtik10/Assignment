{
 "cells": [
  {
   "cell_type": "code",
   "execution_count": 45,
   "id": "a323058b-a1c2-4ad5-9f6e-21db398a2825",
   "metadata": {},
   "outputs": [],
   "source": [
    "def showDetails(*args):\n",
    "    for i in range(len(args)):\n",
    "        variable = args[i]\n",
    "        print(f\"The Value of { i+1 } variable is \\t{variable }\\t its id is \\t {id(variable)}\")\n",
    "    \n",
    "    print(\"\\n\\n\")"
   ]
  },
  {
   "cell_type": "code",
   "execution_count": 39,
   "id": "bd382433-04df-4227-90f4-4cce328aa31d",
   "metadata": {},
   "outputs": [],
   "source": [
    "list = [ 1 , 2, 3 , \"s\" , [ 1,2 ] ,  { 1,2}]"
   ]
  },
  {
   "cell_type": "code",
   "execution_count": 60,
   "id": "af5f6fab-c706-4540-9dd6-48ab2bc39165",
   "metadata": {},
   "outputs": [
    {
     "name": "stdout",
     "output_type": "stream",
     "text": [
      "The Value of 1 variable is \t[2, 4, 6, [1, 3]]\t its id is \t 1614739103424\n",
      "The Value of 2 variable is \t[2, 4, 6, [1, 3]]\t its id is \t 1614739103424\n",
      "\n",
      "\n",
      "\n",
      "The Value of 1 variable is \t[2, 44, 6, [1, 3]]\t its id is \t 1614739103424\n",
      "The Value of 2 variable is \t[2, 44, 6, [1, 3]]\t its id is \t 1614739103424\n",
      "\n",
      "\n",
      "\n",
      "The Value of 1 variable is \t[2, 44, 6, [1, 10]]\t its id is \t 1614739103424\n",
      "The Value of 2 variable is \t[2, 44, 6, [1, 10]]\t its id is \t 1614739103424\n",
      "\n",
      "\n",
      "\n"
     ]
    },
    {
     "data": {
      "text/plain": [
       "[2, 44, 6, [1, 10]]"
      ]
     },
     "execution_count": 60,
     "metadata": {},
     "output_type": "execute_result"
    }
   ],
   "source": [
    "listA = [2, 4, 6, [1, 3]]\n",
    "listB = listA\n",
    "showDetails(listA,listB)\n",
    "listB[1] = 44\n",
    "\n",
    "showDetails(listA,listB)\n",
    "listB[3][1] = 10\n",
    "\n",
    "\n",
    "showDetails(listA,listB)\n",
    "\n",
    "# listA[3][1] = 9\n",
    "listAShallow copy using the list() constructor\n",
    "Shallow copy only works for 1D lists of native data types.\n",
    "Sublists, dicts, and other objects will retain the same referece to those objects."
   ]
  },
  {
   "cell_type": "code",
   "execution_count": null,
   "id": "44417c47-fc73-41fb-ac2f-c6556338a1c0",
   "metadata": {},
   "outputs": [],
   "source": []
  },
  {
   "cell_type": "code",
   "execution_count": 62,
   "id": "11c5738d-0833-4c4d-b84c-13099b0f0844",
   "metadata": {},
   "outputs": [
    {
     "ename": "TypeError",
     "evalue": "'list' object is not callable",
     "output_type": "error",
     "traceback": [
      "\u001b[1;31m---------------------------------------------------------------------------\u001b[0m",
      "\u001b[1;31mTypeError\u001b[0m                                 Traceback (most recent call last)",
      "Cell \u001b[1;32mIn[62], line 2\u001b[0m\n\u001b[0;32m      1\u001b[0m listA \u001b[38;5;241m=\u001b[39m [\u001b[38;5;241m2\u001b[39m, \u001b[38;5;241m4\u001b[39m, \u001b[38;5;241m6\u001b[39m, [\u001b[38;5;241m1\u001b[39m, \u001b[38;5;241m3\u001b[39m]]\n\u001b[1;32m----> 2\u001b[0m listB \u001b[38;5;241m=\u001b[39m \u001b[38;5;28mlist\u001b[39m(listA)\n\u001b[0;32m      3\u001b[0m showDetails(listA,listB)\n\u001b[0;32m      5\u001b[0m listB[\u001b[38;5;241m1\u001b[39m] \u001b[38;5;241m=\u001b[39m \u001b[38;5;241m44\u001b[39m\n",
      "\u001b[1;31mTypeError\u001b[0m: 'list' object is not callable"
     ]
    }
   ],
   "source": [
    "listA = [2, 4, 6, [1, 3]]\n",
    "listB = list(listA)\n",
    "showDetails(listA,listB)\n",
    "\n",
    "listB[1] = 44\n",
    "listB[3][0] = 55\n",
    "\n",
    "showDetails(listA,listB)"
   ]
  },
  {
   "cell_type": "code",
   "execution_count": null,
   "id": "9dc838d6-abfd-40dd-8551-62872b46c0dc",
   "metadata": {},
   "outputs": [],
   "source": []
  }
 ],
 "metadata": {
  "kernelspec": {
   "display_name": "Python 3 (ipykernel)",
   "language": "python",
   "name": "python3"
  },
  "language_info": {
   "codemirror_mode": {
    "name": "ipython",
    "version": 3
   },
   "file_extension": ".py",
   "mimetype": "text/x-python",
   "name": "python",
   "nbconvert_exporter": "python",
   "pygments_lexer": "ipython3",
   "version": "3.12.4"
  }
 },
 "nbformat": 4,
 "nbformat_minor": 5
}
